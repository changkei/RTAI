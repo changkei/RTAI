{
 "cells": [
  {
   "cell_type": "code",
   "execution_count": 1,
   "id": "perceived-green",
   "metadata": {},
   "outputs": [],
   "source": [
    "import json\n",
    "import trt_pose.coco\n",
    "import torch\n",
    "from torch2trt import TRTModule\n",
    "import cv2\n",
    "import torchvision.transforms as transforms\n",
    "import PIL.Image\n",
    "import time\n",
    "from trt_pose.draw_objects import DrawObjects\n",
    "from trt_pose.parse_objects import ParseObjects\n",
    "\n",
    "\n",
    "#update model path if need be\n",
    "with open('trt_pose/tasks/human_pose/human_pose.json', 'r') as f:\n",
    "    human_pose = json.load(f)\n",
    "\n",
    "topology = trt_pose.coco.coco_category_to_topology(human_pose)"
   ]
  },
  {
   "cell_type": "code",
   "execution_count": 2,
   "id": "otherwise-annex",
   "metadata": {},
   "outputs": [
    {
     "data": {
      "text/plain": [
       "<All keys matched successfully>"
      ]
     },
     "execution_count": 2,
     "metadata": {},
     "output_type": "execute_result"
    }
   ],
   "source": [
    "#update model path if need be\n",
    "OPTIMIZED_MODEL = 'resnet18_baseline_att_224x224_A_epoch_249_trt.pth'\n",
    "#OPTIMIZED_MODEL = 'densenet121_baseline_att_256x256_B_epoch_160_trt.pth'\n",
    "\n",
    "model_trt = TRTModule()\n",
    "model_trt.load_state_dict(torch.load(OPTIMIZED_MODEL))"
   ]
  },
  {
   "cell_type": "code",
   "execution_count": null,
   "id": "composed-brown",
   "metadata": {},
   "outputs": [],
   "source": [
    "mean = torch.Tensor([0.485, 0.456, 0.406]).cuda()\n",
    "std = torch.Tensor([0.229, 0.224, 0.225]).cuda()\n",
    "device = torch.device('cuda')\n",
    "\n",
    "def preprocess(image):\n",
    "    global device\n",
    "    device = torch.device('cuda')\n",
    "    image = cv2.cvtColor(image, cv2.COLOR_BGR2RGB)\n",
    "    image = PIL.Image.fromarray(image)\n",
    "    image = transforms.functional.to_tensor(image).to(device)\n",
    "    image.sub_(mean[:, None, None]).div_(std[:, None, None])\n",
    "    return image[None, ...]"
   ]
  },
  {
   "cell_type": "code",
   "execution_count": null,
   "id": "affecting-restriction",
   "metadata": {},
   "outputs": [],
   "source": [
    "parse_objects = ParseObjects(topology)\n",
    "draw_objects = DrawObjects(topology)"
   ]
  },
  {
   "cell_type": "code",
   "execution_count": null,
   "id": "ecological-medium",
   "metadata": {},
   "outputs": [],
   "source": [
    "def poseProc(video):\n",
    "    cap = cv2.VideoCapture(video)\n",
    "    \n",
    "    WIDTH = 224\n",
    "    HEIGHT = 224\n",
    "    #WIDTH = 256\n",
    "    #HEIGHT = 256\n",
    "    \n",
    "    numFrame = 0\n",
    "    if cap.isOpened():\n",
    "        t0 = time.time()\n",
    "        torch.cuda.current_stream().synchronize()\n",
    "        while(cap.isOpened()):\n",
    "            ret, frame = cap.read()\n",
    "            if ret == False:\n",
    "                break\n",
    "            else:\n",
    "                frame = cv2.resize(frame, (WIDTH,HEIGHT), interpolation =cv2.INTER_LINEAR)\n",
    "                data = preprocess(frame)\n",
    "                cmap, paf = model_trt(data)\n",
    "                cmap, paf = cmap.detach().cpu(), paf.detach().cpu()\n",
    "                counts, objects, peaks = parse_objects(cmap, paf)\n",
    "                draw_objects(frame, counts, objects, peaks)\n",
    "                #image_w.value = bgr8_to_jpeg(frame[:, ::-1, :])\n",
    "                cv2.imshow('frame', frame)\n",
    "                numFrame += 1\n",
    "                if cv2.waitKey(1) & 0xFF == ord('q'):\n",
    "                    break \n",
    "        torch.cuda.current_stream().synchronize()\n",
    "        t1 = time.time()\n",
    "    \n",
    "    print(\"FPS: \" + str(numFrame / (t1 - t0))) \n",
    "    cap.release()\n",
    "    cv2.destroyAllWindows()\n",
    "    "
   ]
  },
  {
   "cell_type": "code",
   "execution_count": null,
   "id": "arabic-clearance",
   "metadata": {},
   "outputs": [],
   "source": [
    "#update model path if need be\n",
    "video = 'pedestrian.mp4'\n",
    "poseProc(video)"
   ]
  },
  {
   "cell_type": "code",
   "execution_count": null,
   "id": "textile-subscription",
   "metadata": {},
   "outputs": [],
   "source": []
  }
 ],
 "metadata": {
  "kernelspec": {
   "display_name": "Python 3",
   "language": "python",
   "name": "python3"
  },
  "language_info": {
   "codemirror_mode": {
    "name": "ipython",
    "version": 3
   },
   "file_extension": ".py",
   "mimetype": "text/x-python",
   "name": "python",
   "nbconvert_exporter": "python",
   "pygments_lexer": "ipython3",
   "version": "3.8.8"
  }
 },
 "nbformat": 4,
 "nbformat_minor": 5
}
