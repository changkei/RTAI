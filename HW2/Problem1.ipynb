{
 "cells": [
  {
   "cell_type": "code",
   "execution_count": 1,
   "id": "metallic-forty",
   "metadata": {},
   "outputs": [],
   "source": [
    "import torch"
   ]
  },
  {
   "cell_type": "code",
   "execution_count": 2,
   "id": "outside-chamber",
   "metadata": {},
   "outputs": [],
   "source": [
    "data = list(range(9))"
   ]
  },
  {
   "cell_type": "code",
   "execution_count": 3,
   "id": "twelve-investigator",
   "metadata": {},
   "outputs": [
    {
     "name": "stdout",
     "output_type": "stream",
     "text": [
      "torch.Size([9])\n",
      "0\n",
      "(1,)\n"
     ]
    }
   ],
   "source": [
    "#float tensor for cos\n",
    "ctemp = torch.FloatTensor(data)\n",
    "print(ctemp.size())\n",
    "print(ctemp.storage_offset())\n",
    "print(ctemp.stride())\n",
    "\n",
    "#float tensor for  sqrt\n",
    "stemp = torch.FloatTensor(data)"
   ]
  },
  {
   "cell_type": "code",
   "execution_count": 4,
   "id": "going-evanescence",
   "metadata": {},
   "outputs": [],
   "source": [
    "#cosine is torch.cos(tensor)\n",
    "#sqrt is torch.sqrt(tensor)"
   ]
  },
  {
   "cell_type": "code",
   "execution_count": 5,
   "id": "timely-string",
   "metadata": {},
   "outputs": [
    {
     "data": {
      "text/plain": [
       "tensor([ 1.0000,  0.5403, -0.4161, -0.9900, -0.6536,  0.2837,  0.9602,  0.7539,\n",
       "        -0.1455])"
      ]
     },
     "execution_count": 5,
     "metadata": {},
     "output_type": "execute_result"
    }
   ],
   "source": [
    "costemp = torch.cos_(ctemp)\n",
    "costemp"
   ]
  },
  {
   "cell_type": "code",
   "execution_count": 6,
   "id": "ancient-perry",
   "metadata": {},
   "outputs": [
    {
     "data": {
      "text/plain": [
       "tensor([0.0000, 1.0000, 1.4142, 1.7321, 2.0000, 2.2361, 2.4495, 2.6458, 2.8284])"
      ]
     },
     "execution_count": 6,
     "metadata": {},
     "output_type": "execute_result"
    }
   ],
   "source": [
    "sqrttemp = torch.sqrt_(stemp)\n",
    "sqrttemp"
   ]
  },
  {
   "cell_type": "code",
   "execution_count": null,
   "id": "buried-stanley",
   "metadata": {},
   "outputs": [],
   "source": []
  }
 ],
 "metadata": {
  "kernelspec": {
   "display_name": "Python 3",
   "language": "python",
   "name": "python3"
  },
  "language_info": {
   "codemirror_mode": {
    "name": "ipython",
    "version": 3
   },
   "file_extension": ".py",
   "mimetype": "text/x-python",
   "name": "python",
   "nbconvert_exporter": "python",
   "pygments_lexer": "ipython3",
   "version": "3.8.8"
  }
 },
 "nbformat": 4,
 "nbformat_minor": 5
}
