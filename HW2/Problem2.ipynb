{
 "cells": [
  {
   "cell_type": "code",
   "execution_count": 1,
   "id": "composed-israeli",
   "metadata": {},
   "outputs": [],
   "source": [
    "import torch\n",
    "import numpy as np\n",
    "import cv2"
   ]
  },
  {
   "cell_type": "code",
   "execution_count": 2,
   "id": "mechanical-coach",
   "metadata": {},
   "outputs": [],
   "source": [
    "img_path = \"C:/Users/keith/Pictures/RTAI/HW2/\"\n",
    "imgRed = img_path + \"red.jpg\"\n",
    "imgGreen = img_path + \"green.jpg\"\n",
    "imgBlue = img_path + \"blue.jpg\""
   ]
  },
  {
   "cell_type": "code",
   "execution_count": 3,
   "id": "enhanced-sister",
   "metadata": {},
   "outputs": [],
   "source": [
    "imgR = cv2.imread(imgRed)\n",
    "imgG = cv2.imread(imgGreen)\n",
    "imgB = cv2.imread(imgBlue)"
   ]
  },
  {
   "cell_type": "code",
   "execution_count": 4,
   "id": "tropical-chicken",
   "metadata": {},
   "outputs": [],
   "source": [
    "# cv2.imshow('Red', imgR)\n",
    "# cv2.imshow('Green', imgG)\n",
    "# cv2.imshow('Blue', imgB)\n",
    "# cv2.waitKey(0)\n",
    "# cv2.destroyAllWindows()"
   ]
  },
  {
   "cell_type": "code",
   "execution_count": 5,
   "id": "exciting-spyware",
   "metadata": {},
   "outputs": [
    {
     "data": {
      "text/plain": [
       "(225, 224, 3)"
      ]
     },
     "execution_count": 5,
     "metadata": {},
     "output_type": "execute_result"
    }
   ],
   "source": [
    "imgR.shape"
   ]
  },
  {
   "cell_type": "code",
   "execution_count": 6,
   "id": "micro-newport",
   "metadata": {},
   "outputs": [
    {
     "data": {
      "text/plain": [
       "(700, 700, 3)"
      ]
     },
     "execution_count": 6,
     "metadata": {},
     "output_type": "execute_result"
    }
   ],
   "source": [
    "imgG.shape"
   ]
  },
  {
   "cell_type": "code",
   "execution_count": 7,
   "id": "regulated-sweet",
   "metadata": {},
   "outputs": [
    {
     "data": {
      "text/plain": [
       "(700, 700, 3)"
      ]
     },
     "execution_count": 7,
     "metadata": {},
     "output_type": "execute_result"
    }
   ],
   "source": [
    "imgB.shape"
   ]
  },
  {
   "cell_type": "code",
   "execution_count": 8,
   "id": "systematic-garbage",
   "metadata": {},
   "outputs": [],
   "source": [
    "rNpTens = torch.from_numpy(imgR)\n",
    "rNpTens = rNpTens.float()"
   ]
  },
  {
   "cell_type": "code",
   "execution_count": 9,
   "id": "uniform-maryland",
   "metadata": {},
   "outputs": [],
   "source": [
    "gNpTens = torch.from_numpy(imgG)\n",
    "gNpTens = gNpTens.float()"
   ]
  },
  {
   "cell_type": "code",
   "execution_count": 10,
   "id": "dominican-abortion",
   "metadata": {},
   "outputs": [],
   "source": [
    "bNpTens = torch.from_numpy(imgB)\n",
    "bNpTens = bNpTens.float()"
   ]
  },
  {
   "cell_type": "code",
   "execution_count": 11,
   "id": "arctic-veteran",
   "metadata": {},
   "outputs": [
    {
     "name": "stdout",
     "output_type": "stream",
     "text": [
      "tensor(246.2951)\n",
      "tensor(172.8936)\n",
      "tensor(172.8474)\n"
     ]
    }
   ],
   "source": [
    "#It is BGR Format, 0 = Blue 1 = Green 2 = Red\n",
    "meanRB = rNpTens[:, :, 0].mean()\n",
    "meanRG = rNpTens[:, :, 1].mean()\n",
    "meanRR = rNpTens[:, :, 2].mean()\n",
    "print(meanRR)\n",
    "print(meanRG)\n",
    "print(meanRB)"
   ]
  },
  {
   "cell_type": "code",
   "execution_count": 12,
   "id": "clean-buffalo",
   "metadata": {},
   "outputs": [
    {
     "name": "stdout",
     "output_type": "stream",
     "text": [
      "tensor(120.7640)\n",
      "tensor(195.8072)\n",
      "tensor(168.2024)\n"
     ]
    }
   ],
   "source": [
    "meanGB = gNpTens[:, :, 0].mean()\n",
    "meanGG = gNpTens[:, :, 1].mean()\n",
    "meanGR = gNpTens[:, :, 2].mean()\n",
    "print(meanGR)\n",
    "print(meanGG)\n",
    "print(meanGB)"
   ]
  },
  {
   "cell_type": "code",
   "execution_count": 13,
   "id": "general-symphony",
   "metadata": {},
   "outputs": [
    {
     "name": "stdout",
     "output_type": "stream",
     "text": [
      "tensor(131.6543)\n",
      "tensor(166.9946)\n",
      "tensor(212.2636)\n"
     ]
    }
   ],
   "source": [
    "meanBB = bNpTens[:, :, 0].mean()\n",
    "meanBG = bNpTens[:, :, 1].mean()\n",
    "meanBR = bNpTens[:, :, 2].mean()\n",
    "print(meanBR)\n",
    "print(meanBG)\n",
    "print(meanBB)"
   ]
  }
 ],
 "metadata": {
  "kernelspec": {
   "display_name": "Python 3",
   "language": "python",
   "name": "python3"
  },
  "language_info": {
   "codemirror_mode": {
    "name": "ipython",
    "version": 3
   },
   "file_extension": ".py",
   "mimetype": "text/x-python",
   "name": "python",
   "nbconvert_exporter": "python",
   "pygments_lexer": "ipython3",
   "version": "3.8.8"
  }
 },
 "nbformat": 4,
 "nbformat_minor": 5
}
