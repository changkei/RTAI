{
 "cells": [
  {
   "cell_type": "code",
   "execution_count": 1,
   "id": "naughty-trauma",
   "metadata": {},
   "outputs": [],
   "source": [
    "import torch"
   ]
  },
  {
   "cell_type": "code",
   "execution_count": 2,
   "id": "colonial-arizona",
   "metadata": {},
   "outputs": [],
   "source": [
    "data = list(range(9))"
   ]
  },
  {
   "cell_type": "code",
   "execution_count": 3,
   "id": "valued-italian",
   "metadata": {},
   "outputs": [],
   "source": [
    "temp = torch.FloatTensor(data)"
   ]
  },
  {
   "cell_type": "code",
   "execution_count": 4,
   "id": "collect-complexity",
   "metadata": {},
   "outputs": [],
   "source": [
    "#cosine is torch.cos(tensor)\n",
    "#sqrt is torch.sqrt(tensor)"
   ]
  },
  {
   "cell_type": "code",
   "execution_count": 5,
   "id": "choice-private",
   "metadata": {},
   "outputs": [
    {
     "data": {
      "text/plain": [
       "tensor([ 1.0000,  0.5403, -0.4161, -0.9900, -0.6536,  0.2837,  0.9602,  0.7539,\n",
       "        -0.1455])"
      ]
     },
     "execution_count": 5,
     "metadata": {},
     "output_type": "execute_result"
    }
   ],
   "source": [
    "costemp = torch.cos_(temp)\n",
    "costemp"
   ]
  },
  {
   "cell_type": "code",
   "execution_count": 6,
   "id": "green-setup",
   "metadata": {},
   "outputs": [
    {
     "data": {
      "text/plain": [
       "tensor([1.0000, 0.7351,    nan,    nan,    nan, 0.5326, 0.9799, 0.8683,    nan])"
      ]
     },
     "execution_count": 6,
     "metadata": {},
     "output_type": "execute_result"
    }
   ],
   "source": [
    "sqrttemp = torch.sqrt_(temp)\n",
    "sqrttemp"
   ]
  },
  {
   "cell_type": "code",
   "execution_count": null,
   "id": "proof-decade",
   "metadata": {},
   "outputs": [],
   "source": []
  }
 ],
 "metadata": {
  "kernelspec": {
   "display_name": "Python 3",
   "language": "python",
   "name": "python3"
  },
  "language_info": {
   "codemirror_mode": {
    "name": "ipython",
    "version": 3
   },
   "file_extension": ".py",
   "mimetype": "text/x-python",
   "name": "python",
   "nbconvert_exporter": "python",
   "pygments_lexer": "ipython3",
   "version": "3.8.8"
  }
 },
 "nbformat": 4,
 "nbformat_minor": 5
}
